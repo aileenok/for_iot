{
  "nbformat": 4,
  "nbformat_minor": 0,
  "metadata": {
    "colab": {
      "provenance": [],
      "authorship_tag": "ABX9TyPYGTDVyUiXJR09m1G4mz5u",
      "include_colab_link": true
    },
    "kernelspec": {
      "name": "python3",
      "display_name": "Python 3"
    },
    "language_info": {
      "name": "python"
    }
  },
  "cells": [
    {
      "cell_type": "markdown",
      "metadata": {
        "id": "view-in-github",
        "colab_type": "text"
      },
      "source": [
        "<a href=\"https://colab.research.google.com/github/aileenok/for_iot/blob/main/0318.ipynb\" target=\"_parent\"><img src=\"https://colab.research.google.com/assets/colab-badge.svg\" alt=\"Open In Colab\"/></a>"
      ]
    },
    {
      "cell_type": "code",
      "execution_count": 5,
      "metadata": {
        "colab": {
          "base_uri": "https://localhost:8080/"
        },
        "id": "xYRlerIxOmO1",
        "outputId": "e45153f4-54d9-46e5-ac48-349631341d03"
      },
      "outputs": [
        {
          "output_type": "stream",
          "name": "stdout",
          "text": [
            "b'<?xml version=\"1.0\" encoding=\"UTF-8\" standalone=\"yes\"?><response><header><resultCode>00</resultCode><resultMsg>NORMAL SERVICE.</resultMsg></header><body><items><item><gruNam>\\xeb\\x8f\\x99\\xed\\x95\\xb4</gruNam><obsDtm>2014-10-10 23:30:00</obsDtm><obsTim>233000</obsTim><staCde>bgj8a</staCde><staNamKor>\\xea\\xb8\\xb0\\xec\\x9e\\xa5</staNamKor><wtrTmp_1>21.4</wtrTmp_1><wtrTmp_2>21.4</wtrTmp_2><wtrTmp_3>21.3</wtrTmp_3></item><item><gruNam>\\xeb\\x8f\\x99\\xed\\x95\\xb4</gruNam><obsDtm>2014-10-10 23:30:00</obsDtm><obsTim>233000</obsTim><staCde>fghe8</staCde><staNamKor>\\xea\\xb5\\xac\\xeb\\xa3\\xa1\\xed\\x8f\\xac \\xed\\x95\\x98\\xec\\xa0\\x95</staNamKor><wtrTmp_1>22.1</wtrTmp_1></item><item><gruNam>\\xeb\\x8f\\x99\\xed\\x95\\xb4</gruNam><obsDtm>2014-10-10 23:30:00</obsDtm><obsTim>233000</obsTim><staCde>byy87</staCde><staNamKor>\\xec\\x96\\x91\\xec\\x96\\x91</staNamKor><wtrTmp_1>19.8</wtrTmp_1><wtrTmp_2>19.7</wtrTmp_2><wtrTmp_3>18.1</wtrTmp_3></item><item><gruNam>\\xeb\\x8f\\x99\\xed\\x95\\xb4</gruNam><obsDtm>2014-10-10 23:30:00</obsDtm><obsTim>233000</obsTim><staCde>byd8a</staCde><staNamKor>\\xec\\x98\\x81\\xeb\\x8d\\x95</staNamKor><wtrTmp_1>21.9</wtrTmp_1><wtrTmp_2>21.9</wtrTmp_2><wtrTmp_3>17.2</wtrTmp_3></item><item><gruNam>\\xeb\\x8f\\x99\\xed\\x95\\xb4</gruNam><obsDtm>2014-10-10 23:30:00</obsDtm><obsTim>233000</obsTim><staCde>bsc87</staCde><staNamKor>\\xec\\x82\\xbc\\xec\\xb2\\x99</staNamKor><wtrTmp_1>20.9</wtrTmp_1><wtrTmp_2>19.6</wtrTmp_2><wtrTmp_3>15.9</wtrTmp_3></item><item><cdt_3>31.76</cdt_3><dox_3>7.92</dox_3><gruNam>\\xeb\\x8f\\x99\\xed\\x95\\xb4</gruNam><obsDtm>2014-10-10 23:30:00</obsDtm><obsTim>233000</obsTim><staCde>bgna3</staCde><staNamKor>\\xea\\xb0\\x95\\xeb\\xa6\\x89</staNamKor><wtrTmp_1>19.4</wtrTmp_1><wtrTmp_2>17.5</wtrTmp_2><wtrTmp_3>14</wtrTmp_3></item><item><gruNam>\\xeb\\x8f\\x99\\xed\\x95\\xb4</gruNam><obsDtm>2014-10-10 23:00:00</obsDtm><obsTim>230000</obsTim><staCde>bgj8a</staCde><staNamKor>\\xea\\xb8\\xb0\\xec\\x9e\\xa5</staNamKor><wtrTmp_1>21.5</wtrTmp_1><wtrTmp_2>21.5</wtrTmp_2><wtrTmp_3>21.3</wtrTmp_3></item><item><gruNam>\\xeb\\x8f\\x99\\xed\\x95\\xb4</gruNam><obsDtm>2014-10-10 23:00:00</obsDtm><obsTim>230000</obsTim><staCde>byd8a</staCde><staNamKor>\\xec\\x98\\x81\\xeb\\x8d\\x95</staNamKor><wtrTmp_1>21.9</wtrTmp_1><wtrTmp_2>21.9</wtrTmp_2><wtrTmp_3>17.4</wtrTmp_3></item><item><gruNam>\\xeb\\x8f\\x99\\xed\\x95\\xb4</gruNam><obsDtm>2014-10-10 23:00:00</obsDtm><obsTim>230000</obsTim><staCde>bsc87</staCde><staNamKor>\\xec\\x82\\xbc\\xec\\xb2\\x99</staNamKor><wtrTmp_1>20.9</wtrTmp_1><wtrTmp_2>19.5</wtrTmp_2><wtrTmp_3>16.5</wtrTmp_3></item><item><cdt_3>32.11</cdt_3><dox_3>8.08</dox_3><gruNam>\\xeb\\x8f\\x99\\xed\\x95\\xb4</gruNam><obsDtm>2014-10-10 23:00:00</obsDtm><obsTim>230000</obsTim><staCde>bgna3</staCde><staNamKor>\\xea\\xb0\\x95\\xeb\\xa6\\x89</staNamKor><wtrTmp_1>19.4</wtrTmp_1><wtrTmp_2>17.6</wtrTmp_2><wtrTmp_3>13.3</wtrTmp_3></item></items><numOfRows>10</numOfRows><pageNo>1</pageNo><totalCount>8630</totalCount></body></response>'\n"
          ]
        }
      ],
      "source": [
        "import requests\n",
        "\n",
        "url = 'http://apis.data.go.kr/1520635/OceanMensurationService/getOceanMesurationListrisa'\n",
        "params ={'serviceKey' : 'UiQpVjjHNuCaI47a/vkU6fsebaZrQTpFzC6gkLncxIA4alOMzQsSmp0nsMQd5AosQspdB3+5uv94wMo1a7Enyw==', 'STA_CDE' : '', 'GRU_NAM' : '001', 'SDATE' : '20140909', 'EDATE' : '20141010' }\n",
        "\n",
        "response = requests.get(url, params=params)\n",
        "print(response.content)"
      ]
    },
    {
      "cell_type": "code",
      "source": [
        "from bs4 import BeautifulSoup\n",
        "soup = BeautifulSoup(response.content, features=\"xml\")"
      ],
      "metadata": {
        "id": "60tcRF6UTa-_"
      },
      "execution_count": 6,
      "outputs": []
    },
    {
      "cell_type": "code",
      "source": [
        "soup.find_all('wtrTmp_1')"
      ],
      "metadata": {
        "colab": {
          "base_uri": "https://localhost:8080/"
        },
        "id": "FrCCv270TdMY",
        "outputId": "d360f199-df14-4a94-f175-54a44fd2b8ee"
      },
      "execution_count": 7,
      "outputs": [
        {
          "output_type": "execute_result",
          "data": {
            "text/plain": [
              "[<wtrTmp_1>21.4</wtrTmp_1>,\n",
              " <wtrTmp_1>22.1</wtrTmp_1>,\n",
              " <wtrTmp_1>19.8</wtrTmp_1>,\n",
              " <wtrTmp_1>21.9</wtrTmp_1>,\n",
              " <wtrTmp_1>20.9</wtrTmp_1>,\n",
              " <wtrTmp_1>19.4</wtrTmp_1>,\n",
              " <wtrTmp_1>21.5</wtrTmp_1>,\n",
              " <wtrTmp_1>21.9</wtrTmp_1>,\n",
              " <wtrTmp_1>20.9</wtrTmp_1>,\n",
              " <wtrTmp_1>19.4</wtrTmp_1>]"
            ]
          },
          "metadata": {},
          "execution_count": 7
        }
      ]
    }
  ]
}