{
  "nbformat": 4,
  "nbformat_minor": 0,
  "metadata": {
    "colab": {
      "provenance": [],
      "authorship_tag": "ABX9TyNZ47AihOUsL+Vs/Ydc0p+s",
      "include_colab_link": true
    },
    "kernelspec": {
      "name": "python3",
      "display_name": "Python 3"
    },
    "language_info": {
      "name": "python"
    }
  },
  "cells": [
    {
      "cell_type": "markdown",
      "metadata": {
        "id": "view-in-github",
        "colab_type": "text"
      },
      "source": [
        "<a href=\"https://colab.research.google.com/github/aileenok/for_iot/blob/main/bus_0314.ipynb\" target=\"_parent\"><img src=\"https://colab.research.google.com/assets/colab-badge.svg\" alt=\"Open In Colab\"/></a>"
      ]
    },
    {
      "cell_type": "code",
      "execution_count": 1,
      "metadata": {
        "id": "omsdAfc8H-BG",
        "colab": {
          "base_uri": "https://localhost:8080/"
        },
        "outputId": "2bac1918-0bff-4ca3-e7de-e98c29c1ca54"
      },
      "outputs": [
        {
          "output_type": "stream",
          "name": "stdout",
          "text": [
            "<?xml version=\"1.0\" encoding=\"UTF-8\" standalone=\"yes\"?><response><comMsgHeader/><msgHeader><queryTime>2024-03-16 14:58:34.034</queryTime><resultCode>0</resultCode><resultMessage>정상적으로 처리되었습니다.</resultMessage></msgHeader><msgBody><busLocationList><endBus>0</endBus><lowPlate>0</lowPlate><plateNo>경기77바3628</plateNo><plateType>3</plateType><remainSeatCnt>27</remainSeatCnt><routeId>234000313</routeId><stationId>234000432</stationId><stationSeq>123</stationSeq></busLocationList><busLocationList><endBus>0</endBus><lowPlate>0</lowPlate><plateNo>경기77바3630</plateNo><plateType>3</plateType><remainSeatCnt>16</remainSeatCnt><routeId>234000313</routeId><stationId>234000453</stationId><stationSeq>55</stationSeq></busLocationList><busLocationList><endBus>0</endBus><lowPlate>0</lowPlate><plateNo>경기77바3640</plateNo><plateType>3</plateType><remainSeatCnt>21</remainSeatCnt><routeId>234000313</routeId><stationId>277103388</stationId><stationSeq>72</stationSeq></busLocationList><busLocationList><endBus>0</endBus><lowPlate>0</lowPlate><plateNo>경기77바3642</plateNo><plateType>3</plateType><remainSeatCnt>41</remainSeatCnt><routeId>234000313</routeId><stationId>234000049</stationId><stationSeq>120</stationSeq></busLocationList><busLocationList><endBus>0</endBus><lowPlate>0</lowPlate><plateNo>경기77바3495</plateNo><plateType>3</plateType><remainSeatCnt>41</remainSeatCnt><routeId>234000313</routeId><stationId>228000341</stationId><stationSeq>144</stationSeq></busLocationList><busLocationList><endBus>0</endBus><lowPlate>0</lowPlate><plateNo>경기77바3493</plateNo><plateType>3</plateType><remainSeatCnt>27</remainSeatCnt><routeId>234000313</routeId><stationId>234001153</stationId><stationSeq>39</stationSeq></busLocationList><busLocationList><endBus>0</endBus><lowPlate>0</lowPlate><plateNo>경기77바2351</plateNo><plateType>3</plateType><remainSeatCnt>29</remainSeatCnt><routeId>234000313</routeId><stationId>121000076</stationId><stationSeq>76</stationSeq></busLocationList><busLocationList><endBus>0</endBus><lowPlate>0</lowPlate><plateNo>경기77바2055</plateNo><plateType>3</plateType><remainSeatCnt>44</remainSeatCnt><routeId>234000313</routeId><stationId>121000181</stationId><stationSeq>81</stationSeq></busLocationList><busLocationList><endBus>0</endBus><lowPlate>0</lowPlate><plateNo>경기77바2273</plateNo><plateType>3</plateType><remainSeatCnt>10</remainSeatCnt><routeId>234000313</routeId><stationId>121000075</stationId><stationSeq>88</stationSeq></busLocationList><busLocationList><endBus>0</endBus><lowPlate>0</lowPlate><plateNo>경기77바3496</plateNo><plateType>3</plateType><remainSeatCnt>38</remainSeatCnt><routeId>234000313</routeId><stationId>228001426</stationId><stationSeq>12</stationSeq></busLocationList><busLocationList><endBus>0</endBus><lowPlate>0</lowPlate><plateNo>경기77바3484</plateNo><plateType>3</plateType><remainSeatCnt>43</remainSeatCnt><routeId>234000313</routeId><stationId>228000400</stationId><stationSeq>160</stationSeq></busLocationList><busLocationList><endBus>0</endBus><lowPlate>0</lowPlate><plateNo>경기77바3629</plateNo><plateType>3</plateType><remainSeatCnt>34</remainSeatCnt><routeId>234000313</routeId><stationId>228000346</stationId><stationSeq>28</stationSeq></busLocationList><busLocationList><endBus>0</endBus><lowPlate>0</lowPlate><plateNo>경기77바2199</plateNo><plateType>3</plateType><remainSeatCnt>23</remainSeatCnt><routeId>234000313</routeId><stationId>206000238</stationId><stationSeq>101</stationSeq></busLocationList><busLocationList><endBus>0</endBus><lowPlate>0</lowPlate><plateNo>경기77바3627</plateNo><plateType>3</plateType><remainSeatCnt>24</remainSeatCnt><routeId>234000313</routeId><stationId>206000530</stationId><stationSeq>65</stationSeq></busLocationList><busLocationList><endBus>0</endBus><lowPlate>0</lowPlate><plateNo>경기77바2017</plateNo><plateType>3</plateType><remainSeatCnt>37</remainSeatCnt><routeId>234000313</routeId><stationId>234000062</stationId><stationSeq>112</stationSeq></busLocationList></msgBody></response>\n"
          ]
        }
      ],
      "source": [
        "import requests\n",
        "url = \"http://openapi.gbis.go.kr/ws/rest/buslocationservice?serviceKey=1234567890&routeId=234000313\"\n",
        "r = requests.get(url)\n",
        "print(r.text)"
      ]
    },
    {
      "cell_type": "code",
      "source": [
        "from bs4 import BeautifulSoup\n",
        "\n",
        "soup = BeautifulSoup(r.text, features=\"xml\")"
      ],
      "metadata": {
        "id": "4J5TW0Cn1tO-"
      },
      "execution_count": 2,
      "outputs": []
    },
    {
      "cell_type": "code",
      "source": [
        "soup.find_all('stationId')"
      ],
      "metadata": {
        "colab": {
          "base_uri": "https://localhost:8080/"
        },
        "id": "8AnSdsyW16gi",
        "outputId": "9c237fcc-d959-4241-db71-ccbb906d8dbd"
      },
      "execution_count": 4,
      "outputs": [
        {
          "output_type": "execute_result",
          "data": {
            "text/plain": [
              "[<stationId>234000432</stationId>,\n",
              " <stationId>234000453</stationId>,\n",
              " <stationId>277103388</stationId>,\n",
              " <stationId>234000049</stationId>,\n",
              " <stationId>228000341</stationId>,\n",
              " <stationId>234001153</stationId>,\n",
              " <stationId>121000076</stationId>,\n",
              " <stationId>121000181</stationId>,\n",
              " <stationId>121000075</stationId>,\n",
              " <stationId>228001426</stationId>,\n",
              " <stationId>228000400</stationId>,\n",
              " <stationId>228000346</stationId>,\n",
              " <stationId>206000238</stationId>,\n",
              " <stationId>206000530</stationId>,\n",
              " <stationId>234000062</stationId>]"
            ]
          },
          "metadata": {},
          "execution_count": 4
        }
      ]
    },
    {
      "cell_type": "code",
      "source": [
        "print('학번=', 2170057, '이름=', '옥유진')"
      ],
      "metadata": {
        "colab": {
          "base_uri": "https://localhost:8080/"
        },
        "id": "xPjWv4Di2E0Z",
        "outputId": "5b4a66a9-4e01-4d99-bc92-4341750c763a"
      },
      "execution_count": 5,
      "outputs": [
        {
          "output_type": "stream",
          "name": "stdout",
          "text": [
            "학번= 2170057 이름= 옥유진\n"
          ]
        }
      ]
    }
  ]
}