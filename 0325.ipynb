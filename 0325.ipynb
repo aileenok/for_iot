{
  "nbformat": 4,
  "nbformat_minor": 0,
  "metadata": {
    "colab": {
      "provenance": [],
      "authorship_tag": "ABX9TyOywvyXKUJKclEfh4TktVmu",
      "include_colab_link": true
    },
    "kernelspec": {
      "name": "python3",
      "display_name": "Python 3"
    },
    "language_info": {
      "name": "python"
    }
  },
  "cells": [
    {
      "cell_type": "markdown",
      "metadata": {
        "id": "view-in-github",
        "colab_type": "text"
      },
      "source": [
        "<a href=\"https://colab.research.google.com/github/aileenok/for_iot/blob/main/0325.ipynb\" target=\"_parent\"><img src=\"https://colab.research.google.com/assets/colab-badge.svg\" alt=\"Open In Colab\"/></a>"
      ]
    },
    {
      "cell_type": "code",
      "execution_count": 7,
      "metadata": {
        "colab": {
          "base_uri": "https://localhost:8080/"
        },
        "id": "W9Zp4wEhYfTd",
        "outputId": "fe2310f5-1d21-49de-f97e-f78b06c95fb4"
      },
      "outputs": [
        {
          "output_type": "stream",
          "name": "stdout",
          "text": [
            "1\n",
            "2\n",
            "3\n",
            "4\n",
            "5\n",
            "6\n",
            "done\n"
          ]
        }
      ],
      "source": [
        "import random\n",
        "import time\n",
        "\n",
        "for v in range(6) :\n",
        "  v = random.randint(0,100)\n",
        "  r= requests.get(f'https://api.thingspeak.com/update?api_key=FAFV2XJ2W90T2XW1&field1={v}')\n",
        "  print(r.text)\n",
        "  time.sleep(20)\n",
        "print('done')"
      ]
    }
  ]
}