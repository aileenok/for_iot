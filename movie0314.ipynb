{
  "nbformat": 4,
  "nbformat_minor": 0,
  "metadata": {
    "colab": {
      "provenance": [],
      "authorship_tag": "ABX9TyOczOcKJiWNPXkC/pJjx0i/",
      "include_colab_link": true
    },
    "kernelspec": {
      "name": "python3",
      "display_name": "Python 3"
    },
    "language_info": {
      "name": "python"
    }
  },
  "cells": [
    {
      "cell_type": "markdown",
      "metadata": {
        "id": "view-in-github",
        "colab_type": "text"
      },
      "source": [
        "<a href=\"https://colab.research.google.com/github/aileenok/for_iot/blob/main/movie0314.ipynb\" target=\"_parent\"><img src=\"https://colab.research.google.com/assets/colab-badge.svg\" alt=\"Open In Colab\"/></a>"
      ]
    },
    {
      "cell_type": "code",
      "execution_count": 16,
      "metadata": {
        "colab": {
          "base_uri": "https://localhost:8080/"
        },
        "id": "LuuNP8sZ4VG2",
        "outputId": "74459cb1-b0f5-4d10-dc84-2a0ae5539fe6"
      },
      "outputs": [
        {
          "output_type": "stream",
          "name": "stdout",
          "text": [
            "<?xml version=\"1.0\" encoding=\"utf-8\" standalone=\"yes\"?><boxOfficeResult><boxofficeType>주간 박스오피스</boxofficeType><showRange>20240226~20240303</showRange><yearWeekTime>202409</yearWeekTime><weeklyBoxOfficeList><weeklyBoxOffice><rnum>1</rnum><rank>1</rank><rankInten>0</rankInten><rankOldAndNew>OLD</rankOldAndNew><movieCd>20234675</movieCd><movieNm>파묘</movieNm><openDt>2024-02-22</openDt><salesAmt>35590793195</salesAmt><salesShare>68.6</salesShare><salesInten>13173929751</salesInten><salesChange>58.8</salesChange><salesAcc>58007656639</salesAcc><audiCnt>3731726</audiCnt><audiInten>1430288</audiInten><audiChange>62.1</audiChange><audiAcc>6033164</audiAcc><scrnCnt>2367</scrnCnt><showCnt>61049</showCnt></weeklyBoxOffice><weeklyBoxOffice><rnum>2</rnum><rank>2</rank><rankInten>38</rankInten><rankOldAndNew>OLD</rankOldAndNew><movieCd>20236295</movieCd><movieNm>듄: 파트2</movieNm><openDt>2024-02-28</openDt><salesAmt>9021574194</salesAmt><salesShare>17.4</salesShare><salesInten>9002632194</salesInten><salesChange>47527.4</salesChange><salesAcc>9040516194</salesAcc><audiCnt>819581</audiCnt><audiInten>818375</audiInten><audiChange>67858.6</audiChange><audiAcc>820787</audiAcc><scrnCnt>1544</scrnCnt><showCnt>20855</showCnt></weeklyBoxOffice><weeklyBoxOffice><rnum>3</rnum><rank>3</rank><rankInten>-1</rankInten><rankOldAndNew>OLD</rankOldAndNew><movieCd>20236180</movieCd><movieNm>웡카</movieNm><openDt>2024-01-31</openDt><salesAmt>3016164356</salesAmt><salesShare>5.8</salesShare><salesInten>-1710475617</salesInten><salesChange>-36.2</salesChange><salesAcc>31714216962</salesAcc><audiCnt>327337</audiCnt><audiInten>-172262</audiInten><audiChange>-34.5</audiChange><audiAcc>3297955</audiAcc><scrnCnt>777</scrnCnt><showCnt>10917</showCnt></weeklyBoxOffice><weeklyBoxOffice><rnum>4</rnum><rank>4</rank><rankInten>-1</rankInten><rankOldAndNew>OLD</rankOldAndNew><movieCd>20247074</movieCd><movieNm>건국전쟁</movieNm><openDt>2024-02-01</openDt><salesAmt>1123646531</salesAmt><salesShare>2.2</salesShare><salesInten>-1185058570</salesInten><salesChange>-51.3</salesChange><salesAcc>10191033470</salesAcc><audiCnt>126185</audiCnt><audiInten>-129831</audiInten><audiChange>-50.7</audiChange><audiAcc>1092712</audiAcc><scrnCnt>652</scrnCnt><showCnt>5806</showCnt></weeklyBoxOffice><weeklyBoxOffice><rnum>5</rnum><rank>5</rank><rankInten>4</rankInten><rankOldAndNew>OLD</rankOldAndNew><movieCd>20247437</movieCd><movieNm>브레드이발소: 셀럽 인 베이커리타운</movieNm><openDt>2024-03-01</openDt><salesAmt>733924650</salesAmt><salesShare>1.4</salesShare><salesInten>564977760</salesInten><salesChange>334.4</salesChange><salesAcc>908073540</salesAcc><audiCnt>86088</audiCnt><audiInten>67791</audiInten><audiChange>370.5</audiChange><audiAcc>104963</audiAcc><scrnCnt>342</scrnCnt><showCnt>1764</showCnt></weeklyBoxOffice><weeklyBoxOffice><rnum>6</rnum><rank>6</rank><rankInten>-2</rankInten><rankOldAndNew>OLD</rankOldAndNew><movieCd>20247076</movieCd><movieNm>귀멸의 칼날: 인연의 기적, 그리고 합동 강화 훈련으로</movieNm><openDt>2024-02-14</openDt><salesAmt>646534800</salesAmt><salesShare>1.2</salesShare><salesInten>-747144000</salesInten><salesChange>-53.6</salesChange><salesAcc>5221927200</salesAcc><audiCnt>63874</audiCnt><audiInten>-60725</audiInten><audiChange>-48.7</audiChange><audiAcc>458112</audiAcc><scrnCnt>300</scrnCnt><showCnt>3984</showCnt></weeklyBoxOffice><weeklyBoxOffice><rnum>7</rnum><rank>7</rank><rankInten>25</rankInten><rankOldAndNew>OLD</rankOldAndNew><movieCd>20247473</movieCd><movieNm>아이엠 티라노</movieNm><openDt>2024-03-01</openDt><salesAmt>283646000</salesAmt><salesShare>0.5</salesShare><salesInten>267486200</salesInten><salesChange>1655.3</salesChange><salesAcc>299805800</salesAcc><audiCnt>33962</audiCnt><audiInten>32189</audiInten><audiChange>1815.5</audiChange><audiAcc>35735</audiAcc><scrnCnt>229</scrnCnt><showCnt>1148</showCnt></weeklyBoxOffice><weeklyBoxOffice><rnum>8</rnum><rank>8</rank><rankInten>-2</rankInten><rankOldAndNew>OLD</rankOldAndNew><movieCd>20231415</movieCd><movieNm>소풍</movieNm><openDt>2024-02-07</openDt><salesAmt>199883191</salesAmt><salesShare>0.4</salesShare><salesInten>-246858725</salesInten><salesChange>-55.3</salesChange><salesAcc>2897954410</salesAcc><audiCnt>23104</audiCnt><audiInten>-28426</audiInten><audiChange>-55.2</audiChange><audiAcc>323327</audiAcc><scrnCnt>273</scrnCnt><showCnt>1298</showCnt></weeklyBoxOffice><weeklyBoxOffice><rnum>9</rnum><rank>9</rank><rankInten>-2</rankInten><rankOldAndNew>OLD</rankOldAndNew><movieCd>20247219</movieCd><movieNm>사운드 오브 프리덤</movieNm><openDt>2024-02-21</openDt><salesAmt>141005000</salesAmt><salesShare>0.3</salesShare><salesInten>-176647500</salesInten><salesChange>-55.6</salesChange><salesAcc>479989700</salesAcc><audiCnt>12562</audiCnt><audiInten>-16043</audiInten><audiChange>-56.1</audiChange><audiAcc>43225</audiAcc><scrnCnt>209</scrnCnt><showCnt>1234</showCnt></weeklyBoxOffice><weeklyBoxOffice><rnum>10</rnum><rank>10</rank><rankInten>1</rankInten><rankOldAndNew>OLD</rankOldAndNew><movieCd>20247063</movieCd><movieNm>바튼 아카데미</movieNm><openDt>2024-02-21</openDt><salesAmt>77197423</salesAmt><salesShare>0.1</salesShare><salesInten>-43927528</salesInten><salesChange>-36.3</salesChange><salesAcc>231820474</salesAcc><audiCnt>8500</audiCnt><audiInten>-4352</audiInten><audiChange>-33.9</audiChange><audiAcc>24393</audiAcc><scrnCnt>214</scrnCnt><showCnt>824</showCnt></weeklyBoxOffice></weeklyBoxOfficeList></boxOfficeResult>\n"
          ]
        }
      ],
      "source": [
        "import requests\n",
        "from bs4 import BeautifulSoup\n",
        "\n",
        "r = requests.get('http://www.kobis.or.kr/kobisopenapi/webservice/rest/boxoffice/searchWeeklyBoxOfficeList.xml?key=2fe56daac63434ec803ab108d85fdbb8&targetDt=20240303&weekGb=0&itemPerPage=10')\n",
        "print(r.text)"
      ]
    },
    {
      "cell_type": "code",
      "source": [
        "soup = BeautifulSoup(r.text, features=\"xml\")"
      ],
      "metadata": {
        "id": "SlHA7jXb44KK"
      },
      "execution_count": 17,
      "outputs": []
    },
    {
      "cell_type": "code",
      "source": [
        "soup.find_all('movieNm')"
      ],
      "metadata": {
        "colab": {
          "base_uri": "https://localhost:8080/"
        },
        "id": "v8SbmU3w4-0N",
        "outputId": "7ebd7254-8c6c-4b6e-dbeb-d5640d1ba904"
      },
      "execution_count": 18,
      "outputs": [
        {
          "output_type": "execute_result",
          "data": {
            "text/plain": [
              "[<movieNm>파묘</movieNm>,\n",
              " <movieNm>듄: 파트2</movieNm>,\n",
              " <movieNm>웡카</movieNm>,\n",
              " <movieNm>건국전쟁</movieNm>,\n",
              " <movieNm>브레드이발소: 셀럽 인 베이커리타운</movieNm>,\n",
              " <movieNm>귀멸의 칼날: 인연의 기적, 그리고 합동 강화 훈련으로</movieNm>,\n",
              " <movieNm>아이엠 티라노</movieNm>,\n",
              " <movieNm>소풍</movieNm>,\n",
              " <movieNm>사운드 오브 프리덤</movieNm>,\n",
              " <movieNm>바튼 아카데미</movieNm>]"
            ]
          },
          "metadata": {},
          "execution_count": 18
        }
      ]
    },
    {
      "cell_type": "code",
      "source": [
        "soup.find_all('audiCnt')"
      ],
      "metadata": {
        "colab": {
          "base_uri": "https://localhost:8080/"
        },
        "id": "R_YI-4Fj5Mfr",
        "outputId": "4a192bc2-533f-4092-85ca-f45e3614f711"
      },
      "execution_count": 19,
      "outputs": [
        {
          "output_type": "execute_result",
          "data": {
            "text/plain": [
              "[<audiCnt>3731726</audiCnt>,\n",
              " <audiCnt>819581</audiCnt>,\n",
              " <audiCnt>327337</audiCnt>,\n",
              " <audiCnt>126185</audiCnt>,\n",
              " <audiCnt>86088</audiCnt>,\n",
              " <audiCnt>63874</audiCnt>,\n",
              " <audiCnt>33962</audiCnt>,\n",
              " <audiCnt>23104</audiCnt>,\n",
              " <audiCnt>12562</audiCnt>,\n",
              " <audiCnt>8500</audiCnt>]"
            ]
          },
          "metadata": {},
          "execution_count": 19
        }
      ]
    }
  ]
}