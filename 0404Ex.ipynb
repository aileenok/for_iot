{
  "nbformat": 4,
  "nbformat_minor": 0,
  "metadata": {
    "colab": {
      "provenance": [],
      "authorship_tag": "ABX9TyOFH63D7hbnOK+is5y+LWkB",
      "include_colab_link": true
    },
    "kernelspec": {
      "name": "python3",
      "display_name": "Python 3"
    },
    "language_info": {
      "name": "python"
    }
  },
  "cells": [
    {
      "cell_type": "markdown",
      "metadata": {
        "id": "view-in-github",
        "colab_type": "text"
      },
      "source": [
        "<a href=\"https://colab.research.google.com/github/aileenok/for_iot/blob/main/0404Ex.ipynb\" target=\"_parent\"><img src=\"https://colab.research.google.com/assets/colab-badge.svg\" alt=\"Open In Colab\"/></a>"
      ]
    },
    {
      "cell_type": "code",
      "execution_count": null,
      "metadata": {
        "id": "vlAMp0nSK2QY"
      },
      "outputs": [],
      "source": [
        "#include <OneWire.h>\n",
        "#include <DallasTemperature.h>\n",
        "\n",
        "#define ONE_WIRE_BUS 5 << '5th 아두이노에 연결하겠다'\n",
        "OneWire oneWire(ONE_WIRE_BUS);\n",
        "DallasTemperature sensors(&oneWire);\n",
        "\n",
        "void setup() {\n",
        "  Serial.begin(115200); # 값 초기화\n",
        "  delay(1000);\n",
        "  Serial.println();\n",
        "  sensors.begin();\n",
        "  Serial.println(\"Begin\");\n",
        "}\n",
        "\n",
        "void loop() {\n",
        "  sensors.requestTemperatures();\n",
        "  float tempC = sensors.getTempCByIndex(0);\n",
        "  Serial.printf(\"temp= %.1f\\n\", tempC);\n",
        "}"
      ]
    }
  ]
}